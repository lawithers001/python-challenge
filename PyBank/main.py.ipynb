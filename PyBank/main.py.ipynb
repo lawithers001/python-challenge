{
 "cells": [
  {
   "cell_type": "markdown",
   "metadata": {},
   "source": [
    "## Option 1: PyBank\n",
    "\n",
    "![Revenue](Images/revenue-per-lead.jpg)\n",
    "\n",
    "In this challenge, you are tasked with creating a Python script for analyzing the financial records of your company. You will be given two sets of revenue data (`budget_data_1.csv` and `budget_data_2.csv`). Each dataset is composed of two columns: `Date` and `Revenue`. (Thankfully, your company has rather lax standards for accounting so the records are simple.)\n",
    "\n",
    "Your task is to create a Python script that analyzes the records to calculate each of the following:\n",
    "\n",
    "* The total number of months included in the dataset\n",
    "\n",
    "* The total amount of revenue gained over the entire period\n",
    "\n",
    "* The average change in revenue between months over the entire period\n",
    "\n",
    "* The greatest increase in revenue (date and amount) over the entire period\n",
    "\n",
    "* The greatest decrease in revenue (date and amount) over the entire period\n",
    "\n",
    "As an example, your analysis should look similar to the one below:\n",
    "\n",
    "```\n",
    "Financial Analysis\n",
    "----------------------------\n",
    "Total Months: 25\n",
    "Total Revenue: $1241412\n",
    "Average Revenue Change: $216825\n",
    "Greatest Increase in Revenue: Sep-16 ($815531)\n",
    "Greatest Decrease in Revenue: Aug-12 ($-652794)\n",
    "```\n",
    "\n",
    "Your final script must be able to handle any such similarly structured dataset in the future (your boss is going to give you more of these -- so your script has to work for the ones to come). In addition, your final script should both print the analysis to the terminal and export a text file with the results."
   ]
  },
  {
   "cell_type": "code",
   "execution_count": 1,
   "metadata": {},
   "outputs": [],
   "source": [
    "import os\n",
    "import csv"
   ]
  },
  {
   "cell_type": "code",
   "execution_count": 2,
   "metadata": {},
   "outputs": [],
   "source": [
    "date, revenue = ([] for i in range(2))"
   ]
  },
  {
   "cell_type": "code",
   "execution_count": 3,
   "metadata": {},
   "outputs": [],
   "source": [
    "# input and output files\n",
    "input_file = \"budget_data_1-Copy1.csv\"\n",
    "output_file = \"budget_data_1_summary.txt\""
   ]
  },
  {
   "cell_type": "code",
   "execution_count": 4,
   "metadata": {},
   "outputs": [],
   "source": [
    "# input and output paths\n",
    "csv_input_path = os.path.join(\"raw_data\", input_file)\n",
    "txt_output_path = os.path.join(\"summary_doc\", output_file)"
   ]
  },
  {
   "cell_type": "code",
   "execution_count": 5,
   "metadata": {},
   "outputs": [],
   "source": [
    "with open(csv_input_path, mode='r', newline='') as budget_data:\n",
    "    reader = csv.reader(budget_data, delimiter=',')\n",
    "\n",
    "    next(reader)\n",
    "\n",
    "    row_num = 0\n",
    "    for row in reader:\n",
    "        date.append(row[0])\n",
    "        revenue.append(row[1])\n",
    "        row_num += 1\n",
    "\n",
    "\n",
    "\n",
    "\n",
    "# *-----------------*\n",
    "# |  Summary Table  |\n",
    "# *-----------------*"
   ]
  },
  {
   "cell_type": "code",
   "execution_count": 6,
   "metadata": {},
   "outputs": [
    {
     "name": "stdout",
     "output_type": "stream",
     "text": [
      "Total Months: 41\n"
     ]
    }
   ],
   "source": [
    "# sum of months\n",
    "print(\"Total Months:\", row_num)"
   ]
  },
  {
   "cell_type": "code",
   "execution_count": 7,
   "metadata": {},
   "outputs": [
    {
     "name": "stdout",
     "output_type": "stream",
     "text": [
      "Total Revenue: $18971412\n"
     ]
    }
   ],
   "source": [
    "# sum of revenue\n",
    "revenue_sum = 0\n",
    "for i in revenue:\n",
    "    revenue_sum += int(i)\n",
    "\n",
    "print(\"Total Revenue: $\" + str(revenue_sum))"
   ]
  },
  {
   "cell_type": "code",
   "execution_count": 8,
   "metadata": {},
   "outputs": [
    {
     "name": "stdout",
     "output_type": "stream",
     "text": [
      "Average Revenue Change: $21559\n"
     ]
    }
   ],
   "source": [
    "# average revenue change\n",
    "total_revenue_change = 0\n",
    "for h in range(row_num):\n",
    "    total_revenue_change += int(revenue[h]) - int(revenue[h - 1])\n",
    "    \n",
    "# the first_pass variable is created to remove the first iteration revenue change\n",
    "# which, takes the first list element and subtracts it by the last list element.\n",
    "first_pass = (int(revenue[0]) - int(revenue[-1]))\n",
    "total_revenue_change_adj = total_revenue_change - first_pass\n",
    "\n",
    "avg_revenue_change = (total_revenue_change_adj + int(revenue[0])) / row_num\n",
    "print(\"Average Revenue Change: $\" + str(round(avg_revenue_change)))"
   ]
  },
  {
   "cell_type": "code",
   "execution_count": 9,
   "metadata": {},
   "outputs": [
    {
     "name": "stdout",
     "output_type": "stream",
     "text": [
      "Greatest Increase in Revenue: Feb-16 ($1837235)\n"
     ]
    }
   ],
   "source": [
    "# greatest increase in revenue\n",
    "high_revenue = 0\n",
    "for j in range(len(revenue)):\n",
    "    if int(revenue[j]) - int(revenue[j - 1]) > high_revenue:\n",
    "        high_revenue = int(revenue[j]) - int(revenue[j - 1])\n",
    "        high_month = date[j]\n",
    "\n",
    "print(\"Greatest Increase in Revenue:\", high_month, \"($\" + str(high_revenue) + \")\")"
   ]
  },
  {
   "cell_type": "code",
   "execution_count": 10,
   "metadata": {},
   "outputs": [
    {
     "name": "stdout",
     "output_type": "stream",
     "text": [
      "Greatest Decrease in Revenue: Aug-14 ($-1779747)\n"
     ]
    }
   ],
   "source": [
    "# greatest decrease in revenue\n",
    "low_revenue = 0\n",
    "for k in range(len(revenue)):\n",
    "    if int(revenue[k]) - int(revenue[k - 1]) < low_revenue:\n",
    "        low_revenue = int(revenue[k]) - int(revenue[k - 1])\n",
    "        low_month = date[k]\n",
    "\n",
    "print(\"Greatest Decrease in Revenue:\", low_month, \"($\" + str(low_revenue) + \")\")"
   ]
  },
  {
   "cell_type": "code",
   "execution_count": 11,
   "metadata": {},
   "outputs": [
    {
     "name": "stdout",
     "output_type": "stream",
     "text": [
      "\n",
      "Financial Analysis \n",
      "--------------------------------------------------\n",
      "Total Months: 41\n",
      "Total Revenue: $18971412\n",
      "Average Revenue Change: $21559\n",
      "Greatest Increase in Revenue: Feb-16 ($1837235)\n",
      "Greatest Decrease in Revenue: Aug-14 ($-1779747)\n",
      "\n",
      "\n",
      "\n"
     ]
    }
   ],
   "source": [
    "# print summary header\n",
    "print(\"\\nFinancial Analysis\", \"\\n\" + \"-\" * 50)\n",
    "\n",
    "# sum of months\n",
    "print(\"Total Months:\", row_num)\n",
    "\n",
    "# sum of revenue\n",
    "revenue_sum = 0\n",
    "for i in revenue:\n",
    "    revenue_sum += int(i)\n",
    "\n",
    "print(\"Total Revenue: $\" + str(revenue_sum))\n",
    "\n",
    "# average revenue change\n",
    "total_revenue_change = 0\n",
    "for h in range(row_num):\n",
    "    total_revenue_change += int(revenue[h]) - int(revenue[h - 1])\n",
    "\n",
    "# the first_pass variable is created to remove the first iteration revenue change\n",
    "# which, takes the first list element and subtracts it by the last list element.\n",
    "first_pass = (int(revenue[0]) - int(revenue[-1]))\n",
    "total_revenue_change_adj = total_revenue_change - first_pass\n",
    "\n",
    "avg_revenue_change = (total_revenue_change_adj + int(revenue[0])) / row_num\n",
    "print(\"Average Revenue Change: $\" + str(round(avg_revenue_change)))\n",
    "\n",
    "\n",
    "# greatest increase in revenue\n",
    "high_revenue = 0\n",
    "for j in range(len(revenue)):\n",
    "    if int(revenue[j]) - int(revenue[j - 1]) > high_revenue:\n",
    "        high_revenue = int(revenue[j]) - int(revenue[j - 1])\n",
    "        high_month = date[j]\n",
    "\n",
    "print(\"Greatest Increase in Revenue:\", high_month, \"($\" + str(high_revenue) + \")\")\n",
    "\n",
    "\n",
    "# greatest decrease in revenue\n",
    "low_revenue = 0\n",
    "for k in range(len(revenue)):\n",
    "    if int(revenue[k]) - int(revenue[k - 1]) < low_revenue:\n",
    "        low_revenue = int(revenue[k]) - int(revenue[k - 1])\n",
    "        low_month = date[k]\n",
    "\n",
    "print(\"Greatest Decrease in Revenue:\", low_month, \"($\" + str(low_revenue) + \")\")\n",
    "\n",
    "\n",
    "# white space after table\n",
    "print(\"\\n\\n\")\n",
    "\n",
    "\n",
    "# *-------------------*\n",
    "# |  Output TXT File  |\n",
    "# *-------------------*"
   ]
  },
  {
   "cell_type": "code",
   "execution_count": 12,
   "metadata": {},
   "outputs": [],
   "source": [
    "with open(txt_output_path, mode='w', newline='') as summary_txt:\n",
    "    writer = csv.writer(summary_txt)\n",
    "\n",
    "    writer.writerows([\n",
    "        [\"Financial Analysis for: \" + input_file],\n",
    "        [\"-\" * 50],\n",
    "        [\"Total Months: \" + str(row_num)],\n",
    "        [\"Total Revenue: $\" + str(revenue_sum)],\n",
    "        [\"Average Revenue Change: $\" + str(round(avg_revenue_change))],\n",
    "        [\"Greatest Increase in Revenue: \" + str(high_month) + \" ($\" + str(high_revenue) + \")\"],\n",
    "        [\"Greatest Decrease in Revenue: \" + str(low_month) + \" ($\" + str(low_revenue) + \")\"]\n",
    "    ])"
   ]
  },
  {
   "cell_type": "code",
   "execution_count": 13,
   "metadata": {},
   "outputs": [
    {
     "name": "stdout",
     "output_type": "stream",
     "text": [
      "\n",
      "Financial Analysis \n",
      "--------------------------------------------------\n",
      "Total Months: 86\n",
      "Total Revenue: $36973911\n",
      "Average Revenue Change: $5087\n",
      "Greatest Increase in Revenue: Jul-2014 ($1645140)\n",
      "Greatest Decrease in Revenue: Jun-2014 ($-1947745)\n",
      "\n",
      "\n",
      "\n"
     ]
    }
   ],
   "source": [
    "#Process second set of data on budget_data_2-Copy1.csv \n",
    "\n",
    "date, revenue = ([] for i in range(2))\n",
    "\n",
    "# input and output files\n",
    "input_file = \"budget_data_2-Copy1.csv \"\n",
    "output_file = \"budget_data_2_summary.txt\"\n",
    "\n",
    "# input and output paths\n",
    "csv_input_path = os.path.join(\"raw_data\", input_file)\n",
    "txt_output_path = os.path.join(\"summary_doc\", output_file)\n",
    "\n",
    "\n",
    "with open(csv_input_path, mode='r', newline='') as budget_data:\n",
    "    reader = csv.reader(budget_data, delimiter=',')\n",
    "\n",
    "    next(reader)\n",
    "\n",
    "    row_num = 0\n",
    "    for row in reader:\n",
    "        date.append(row[0])\n",
    "        revenue.append(row[1])\n",
    "        row_num += 1\n",
    "\n",
    "\n",
    "\n",
    "\n",
    "# *-----------------*\n",
    "# |  Summary Table  |\n",
    "# *-----------------*\n",
    "\n",
    "# print summary header\n",
    "print(\"\\nFinancial Analysis\", \"\\n\" + \"-\" * 50)\n",
    "\n",
    "# sum of months\n",
    "print(\"Total Months:\", row_num)\n",
    "\n",
    "\n",
    "# sum of revenue\n",
    "revenue_sum = 0\n",
    "for i in revenue:\n",
    "    revenue_sum += int(i)\n",
    "\n",
    "print(\"Total Revenue: $\" + str(revenue_sum))\n",
    "\n",
    "\n",
    "# average revenue change\n",
    "total_revenue_change = 0\n",
    "for h in range(row_num):\n",
    "    total_revenue_change += int(revenue[h]) - int(revenue[h - 1])\n",
    "\n",
    "# the first_pass variable is created to remove the first iteration revenue change\n",
    "# which, takes the first list element and subtracts it by the last list element.\n",
    "first_pass = (int(revenue[0]) - int(revenue[-1]))\n",
    "total_revenue_change_adj = total_revenue_change - first_pass\n",
    "\n",
    "avg_revenue_change = (total_revenue_change_adj + int(revenue[0])) / row_num\n",
    "print(\"Average Revenue Change: $\" + str(round(avg_revenue_change)))\n",
    "\n",
    "\n",
    "# greatest increase in revenue\n",
    "high_revenue = 0\n",
    "for j in range(len(revenue)):\n",
    "    if int(revenue[j]) - int(revenue[j - 1]) > high_revenue:\n",
    "        high_revenue = int(revenue[j]) - int(revenue[j - 1])\n",
    "        high_month = date[j]\n",
    "\n",
    "print(\"Greatest Increase in Revenue:\", high_month, \"($\" + str(high_revenue) + \")\")\n",
    "\n",
    "\n",
    "# greatest decrease in revenue\n",
    "low_revenue = 0\n",
    "for k in range(len(revenue)):\n",
    "    if int(revenue[k]) - int(revenue[k - 1]) < low_revenue:\n",
    "        low_revenue = int(revenue[k]) - int(revenue[k - 1])\n",
    "        low_month = date[k]\n",
    "\n",
    "print(\"Greatest Decrease in Revenue:\", low_month, \"($\" + str(low_revenue) + \")\")\n",
    "\n",
    "\n",
    "# white space after table\n",
    "print(\"\\n\\n\")\n",
    "\n",
    "\n",
    "# *-------------------*\n",
    "# |  Output TXT File  |\n",
    "# *-------------------*\n",
    "\n",
    "with open(txt_output_path, mode='w', newline='') as summary_txt:\n",
    "    writer = csv.writer(summary_txt)\n",
    "\n",
    "    writer.writerows([\n",
    "        [\"Financial Analysis for: \" + input_file],\n",
    "        [\"-\" * 50],\n",
    "        [\"Total Months: \" + str(row_num)],\n",
    "        [\"Total Revenue: $\" + str(revenue_sum)],\n",
    "        [\"Average Revenue Change: $\" + str(round(avg_revenue_change))],\n",
    "        [\"Greatest Increase in Revenue: \" + str(high_month) + \" ($\" + str(high_revenue) + \")\"],\n",
    "        [\"Greatest Decrease in Revenue: \" + str(low_month) + \" ($\" + str(low_revenue) + \")\"]\n",
    "    ])\n"
   ]
  }
 ],
 "metadata": {
  "kernelspec": {
   "display_name": "Python 3",
   "language": "python",
   "name": "python3"
  },
  "language_info": {
   "codemirror_mode": {
    "name": "ipython",
    "version": 3
   },
   "file_extension": ".py",
   "mimetype": "text/x-python",
   "name": "python",
   "nbconvert_exporter": "python",
   "pygments_lexer": "ipython3",
   "version": "3.6.4"
  }
 },
 "nbformat": 4,
 "nbformat_minor": 2
}
