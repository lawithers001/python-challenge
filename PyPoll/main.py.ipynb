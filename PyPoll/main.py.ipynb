{
 "cells": [
  {
   "cell_type": "markdown",
   "metadata": {},
   "source": [
    "## Option 2: PyPoll\n",
    "\n",
    "![Vote-Counting](Images/Vote_counting.jpg)\n",
    "\n",
    "In this challenge, you are tasked with helping a small, rural town modernize its vote-counting process. (Up until now, Uncle Cleetus had been trustfully tallying them one-by-one, but unfortunately, his concentration isn't what it used to be.)\n",
    "\n",
    "You will be given two sets of poll data (`election_data_1.csv` and `election_data_2.csv`). Each dataset is composed of three columns: `Voter ID`, `County`, and `Candidate`. Your task is to create a Python script that analyzes the votes and calculates each of the following:\n",
    "\n",
    "* The total number of votes cast\n",
    "\n",
    "* A complete list of candidates who received votes\n",
    "\n",
    "* The percentage of votes each candidate won\n",
    "\n",
    "* The total number of votes each candidate won\n",
    "\n",
    "* The winner of the election based on popular vote.\n",
    "\n",
    "As an example, your analysis should look similar to the one below:\n",
    "\n",
    "```\n",
    "Election Results\n",
    "-------------------------\n",
    "Total Votes: 620100\n",
    "-------------------------\n",
    "Rogers: 36.0% (223236)\n",
    "Gomez: 54.0% (334854)\n",
    "Brentwood: 4.0% (24804)\n",
    "Higgins: 6.0% (37206)\n",
    "-------------------------\n",
    "Winner: Gomez\n",
    "-------------------------\n",
    "```\n",
    "\n",
    "Your final script must be able to handle any such similarly-structured dataset in the future (i.e you have zero intentions of living in this hillbilly town -- so your script needs to work without massive re-writes). In addition, your final script should both print the analysis to the terminal and export a text file with the results.\n"
   ]
  },
  {
   "cell_type": "code",
   "execution_count": 1,
   "metadata": {},
   "outputs": [],
   "source": [
    "import os\n",
    "import csv"
   ]
  },
  {
   "cell_type": "code",
   "execution_count": 2,
   "metadata": {},
   "outputs": [],
   "source": [
    "# input and output files\n",
    "input_file = 'election_data_1-Copy1.csv'\n",
    "output_file = 'election_summary_1.txt'"
   ]
  },
  {
   "cell_type": "code",
   "execution_count": 3,
   "metadata": {},
   "outputs": [],
   "source": [
    "# input and output paths\n",
    "csv_input_path = os.path.join('raw_data', input_file)\n",
    "txt_output_path = os.path.join('summary_doc', output_file)"
   ]
  },
  {
   "cell_type": "code",
   "execution_count": 4,
   "metadata": {},
   "outputs": [],
   "source": [
    "candidates, total_candidates, candidate_perc, candidate_total, summaries = ([] for i in range(5))\n",
    "\n",
    "\n",
    "with open(csv_input_path, mode='r', newline='') as poll_data:\n",
    "    reader = csv.reader(poll_data, delimiter=',')\n",
    "\n",
    "    next(reader)\n",
    "\n",
    "    num_rows = 0\n",
    "\n",
    "    for row in reader:\n",
    "        total_candidates.append(row[2])\n",
    "        num_rows += 1\n"
   ]
  },
  {
   "cell_type": "code",
   "execution_count": 5,
   "metadata": {},
   "outputs": [],
   "source": [
    "# sorted list of total_candidates\n",
    "sorted_candidates = sorted(total_candidates)\n",
    "\n",
    "for i in range(num_rows):\n",
    "    if sorted_candidates[i - 1] != sorted_candidates[i]:\n",
    "        candidates.append(sorted_candidates[i])"
   ]
  },
  {
   "cell_type": "code",
   "execution_count": 6,
   "metadata": {},
   "outputs": [
    {
     "name": "stdout",
     "output_type": "stream",
     "text": [
      "\n",
      "Election Results\n",
      "----------------------------------------\n",
      "Total Votes: 803000\n",
      "----------------------------------------\n"
     ]
    }
   ],
   "source": [
    "# *--------------------*\n",
    "# |  Output Summaries  |\n",
    "# *--------------------*\n",
    "\n",
    "print(\"\\nElection Results\")\n",
    "print(\"-\" * 40)\n",
    "print(\"Total Votes:\", num_rows)\n",
    "print(\"-\" * 40)"
   ]
  },
  {
   "cell_type": "code",
   "execution_count": 7,
   "metadata": {},
   "outputs": [
    {
     "name": "stdout",
     "output_type": "stream",
     "text": [
      "Cordin: 3.0% (24090)\n",
      "Seth: 5.0% (40150)\n",
      "Torres: 44.0% (353320)\n",
      "Vestal: 48.0% (385440)\n",
      "----------------------------------------\n",
      "Winner: Vestal\n",
      "----------------------------------------\n",
      "\n",
      "\n",
      "\n"
     ]
    }
   ],
   "source": [
    "for j in range(len(candidates)):\n",
    "    candidate_count = 0\n",
    "\n",
    "    for k in range(len(sorted_candidates)):\n",
    "        if candidates[j] == sorted_candidates[k]:\n",
    "            candidate_count += 1\n",
    "\n",
    "    candidate_perc.append(round(candidate_count / num_rows * 100, 1))\n",
    "    candidate_total.append(candidate_count)\n",
    "\n",
    "\n",
    "zipidy_doo_da = zip(candidates, candidate_perc, candidate_total)\n",
    "\n",
    "for row in zipidy_doo_da:\n",
    "    print(row[0] + \":\", str(row[1]) + \"%\", \"(\" + str(row[2]) + \")\")\n",
    "    summary = (row[0] + \": \", str(row[1]) + \"%\", \" (\" + str(row[2]) + \")\")\n",
    "    summaries.append(summary)\n",
    "\n",
    "\n",
    "for k in range(len(candidate_perc)):\n",
    "    if candidate_total[k] > candidate_total[k - 1]:\n",
    "        chicken_dinner = candidates[k]\n",
    "\n",
    "\n",
    "print(\"-\" * 40)\n",
    "print(\"Winner:\", chicken_dinner)\n",
    "print(\"-\" * 40)\n",
    "print(\"\\n\\n\")"
   ]
  },
  {
   "cell_type": "code",
   "execution_count": 8,
   "metadata": {},
   "outputs": [],
   "source": [
    "with open(txt_output_path, mode='w', newline='') as posted_summaries:\n",
    "    writer = csv.writer(posted_summaries)\n",
    "\n",
    "    writer.writerows([\n",
    "        [\"Election Results for: \" + input_file],\n",
    "        [\"-\" * 40],\n",
    "        [\"Total Votes: \" + str(num_rows)],\n",
    "        [\"-\" * 40]\n",
    "    ])\n",
    "    writer.writerows(summaries)\n",
    "    writer.writerows([\n",
    "        [\"-\" * 40],\n",
    "        [\"Winner: \" + str(chicken_dinner)],\n",
    "        [\"-\" * 40]\n",
    "    ])\n"
   ]
  },
  {
   "cell_type": "code",
   "execution_count": 9,
   "metadata": {},
   "outputs": [
    {
     "name": "stdout",
     "output_type": "stream",
     "text": [
      "\n",
      "Election Results\n",
      "----------------------------------------\n",
      "Total Votes: 3521001\n",
      "----------------------------------------\n",
      "Correy: 20.0% (704200)\n",
      "Khan: 63.0% (2218231)\n",
      "Li: 14.0% (492940)\n",
      "O'Tooley: 3.0% (105630)\n",
      "----------------------------------------\n",
      "Winner: Khan\n",
      "----------------------------------------\n",
      "\n",
      "\n",
      "\n"
     ]
    }
   ],
   "source": [
    "# Process second data set, election_data_2-Copy1.csv\n",
    "\n",
    "# input and output files\n",
    "input_file = 'election_data_2-Copy1.csv'\n",
    "output_file = 'election_summary_2.txt'\n",
    "\n",
    "\n",
    "# input and output paths\n",
    "csv_input_path = os.path.join('raw_data', input_file)\n",
    "txt_output_path = os.path.join('summary_doc', output_file)\n",
    "\n",
    "candidates, total_candidates, candidate_perc, candidate_total, summaries = ([] for i in range(5))\n",
    "\n",
    "\n",
    "with open(csv_input_path, mode='r', newline='') as poll_data:\n",
    "    reader = csv.reader(poll_data, delimiter=',')\n",
    "\n",
    "    next(reader)\n",
    "\n",
    "    num_rows = 0\n",
    "\n",
    "    for row in reader:\n",
    "        total_candidates.append(row[2])\n",
    "        num_rows += 1\n",
    "\n",
    "\n",
    "# sorted list of total_candidates\n",
    "sorted_candidates = sorted(total_candidates)\n",
    "\n",
    "for i in range(num_rows):\n",
    "    if sorted_candidates[i - 1] != sorted_candidates[i]:\n",
    "        candidates.append(sorted_candidates[i])\n",
    "\n",
    "\n",
    "# *--------------------*\n",
    "# |  Output Summaries  |\n",
    "# *--------------------*\n",
    "\n",
    "print(\"\\nElection Results\")\n",
    "print(\"-\" * 40)\n",
    "print(\"Total Votes:\", num_rows)\n",
    "print(\"-\" * 40)\n",
    "\n",
    "\n",
    "for j in range(len(candidates)):\n",
    "    candidate_count = 0\n",
    "\n",
    "    for k in range(len(sorted_candidates)):\n",
    "        if candidates[j] == sorted_candidates[k]:\n",
    "            candidate_count += 1\n",
    "\n",
    "    candidate_perc.append(round(candidate_count / num_rows * 100, 1))\n",
    "    candidate_total.append(candidate_count)\n",
    "\n",
    "\n",
    "zipidy_doo_da = zip(candidates, candidate_perc, candidate_total)\n",
    "\n",
    "for row in zipidy_doo_da:\n",
    "    print(row[0] + \":\", str(row[1]) + \"%\", \"(\" + str(row[2]) + \")\")\n",
    "    summary = (row[0] + \": \", str(row[1]) + \"%\", \" (\" + str(row[2]) + \")\")\n",
    "    summaries.append(summary)\n",
    "\n",
    "\n",
    "for k in range(len(candidate_perc)):\n",
    "    if candidate_total[k] > candidate_total[k - 1]:\n",
    "        chicken_dinner = candidates[k]\n",
    "\n",
    "\n",
    "print(\"-\" * 40)\n",
    "print(\"Winner:\", chicken_dinner)\n",
    "print(\"-\" * 40)\n",
    "print(\"\\n\\n\")\n",
    "\n",
    "\n",
    "with open(txt_output_path, mode='w', newline='') as posted_summaries:\n",
    "    writer = csv.writer(posted_summaries)\n",
    "\n",
    "    writer.writerows([\n",
    "        [\"Election Results for: \" + input_file],\n",
    "        [\"-\" * 40],\n",
    "        [\"Total Votes: \" + str(num_rows)],\n",
    "        [\"-\" * 40]\n",
    "    ])\n",
    "    writer.writerows(summaries)\n",
    "    writer.writerows([\n",
    "        [\"-\" * 40],\n",
    "        [\"Winner: \" + str(chicken_dinner)],\n",
    "        [\"-\" * 40]\n",
    "    ])\n"
   ]
  }
 ],
 "metadata": {
  "kernelspec": {
   "display_name": "Python 3",
   "language": "python",
   "name": "python3"
  },
  "language_info": {
   "codemirror_mode": {
    "name": "ipython",
    "version": 3
   },
   "file_extension": ".py",
   "mimetype": "text/x-python",
   "name": "python",
   "nbconvert_exporter": "python",
   "pygments_lexer": "ipython3",
   "version": "3.6.4"
  }
 },
 "nbformat": 4,
 "nbformat_minor": 2
}
